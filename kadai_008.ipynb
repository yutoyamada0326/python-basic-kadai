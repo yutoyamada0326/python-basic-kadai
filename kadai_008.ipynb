{
  "cells": [
    {
      "cell_type": "code",
      "execution_count": 61,
      "metadata": {
        "colab": {
          "base_uri": "https://localhost:8080/"
        },
        "id": "NoJFlD7t1tuP",
        "outputId": "4fa38ca8-91bd-4e90-facc-1fa65ebb3eed"
      },
      "outputs": [
        {
          "name": "stdout",
          "output_type": "stream",
          "text": [
            "44\n"
          ]
        }
      ],
      "source": [
        "import random\n",
        "# 変数numに0～4までのランダムな整数を代入する\n",
        "var = random.randint(0, 99)\n",
        "\n",
        "if var % 3 == 0 :\n",
        "    print(\"Fizz\")\n",
        "elif var % 5 == 0:\n",
        "    print(\"Buzz\")\n",
        "elif var % 15 == 0 :\n",
        "    print(\"FizzBuzz\")\n",
        "else:\n",
        "    print(var)\n"
      ]
    }
  ],
  "metadata": {
    "colab": {
      "provenance": []
    },
    "kernelspec": {
      "display_name": "Python 3",
      "name": "python3"
    },
    "language_info": {
      "name": "python"
    }
  },
  "nbformat": 4,
  "nbformat_minor": 0
}
