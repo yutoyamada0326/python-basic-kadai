{
  "nbformat": 4,
  "nbformat_minor": 0,
  "metadata": {
    "colab": {
      "provenance": []
    },
    "kernelspec": {
      "name": "python3",
      "display_name": "Python 3"
    },
    "language_info": {
      "name": "python"
    }
  },
  "cells": [
    {
      "cell_type": "code",
      "source": [
        "array = [\"水\",\"金\",\"地\",\"火\",\"木\",\"土\",\"天\",\"海\",\"冥\"]\n",
        "for i in array:\n",
        "    print(i)\n",
        "\n",
        "for i in array:\n",
        "    print(f\" {i}\")\n",
        "\n",
        "i = 0\n",
        "while i < 9:\n",
        "    print(array[i])\n",
        "    i += 1\n",
        "\n",
        "i = 0\n",
        "while i < 9:\n",
        "    print(f\" {array[i]}\")\n",
        "    i += 1\n",
        "\n"
      ],
      "metadata": {
        "colab": {
          "base_uri": "https://localhost:8080/"
        },
        "id": "HdIcaDqB758N",
        "outputId": "3536142d-7c77-46b5-fc68-ffc553bb865d"
      },
      "execution_count": 10,
      "outputs": [
        {
          "output_type": "stream",
          "name": "stdout",
          "text": [
            "水\n",
            "金\n",
            "地\n",
            "火\n",
            "木\n",
            "土\n",
            "天\n",
            "海\n",
            "冥\n",
            " 水\n",
            " 金\n",
            " 地\n",
            " 火\n",
            " 木\n",
            " 土\n",
            " 天\n",
            " 海\n",
            " 冥\n",
            "水\n",
            "金\n",
            "地\n",
            "火\n",
            "木\n",
            "土\n",
            "天\n",
            "海\n",
            "冥\n",
            " 水\n",
            " 金\n",
            " 地\n",
            " 火\n",
            " 木\n",
            " 土\n",
            " 天\n",
            " 海\n",
            " 冥\n"
          ]
        }
      ]
    }
  ]
}